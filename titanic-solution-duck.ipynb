{
 "cells": [
  {
   "cell_type": "code",
   "execution_count": 207,
   "id": "b47d2352",
   "metadata": {},
   "outputs": [],
   "source": [
    "import pandas as pd\n",
    "import numpy as np\n",
    "import matplotlib.pyplot as plt\n",
    "from sklearn.model_selection import train_test_split\n",
    "from sklearn.preprocessing import LabelEncoder\n",
    "from sklearn.ensemble import RandomForestClassifier\n",
    "from sklearn.metrics import accuracy_score"
   ]
  },
  {
   "cell_type": "code",
   "execution_count": 208,
   "id": "2b7323ea",
   "metadata": {},
   "outputs": [],
   "source": [
    "#Load the Dataset\n",
    "train = pd.read_csv('train.csv')\n",
    "test = pd.read_csv('test.csv')"
   ]
  },
  {
   "cell_type": "code",
   "execution_count": 209,
   "id": "93750a6d-af11-4337-b066-52cf9cb147a3",
   "metadata": {},
   "outputs": [
    {
     "name": "stdout",
     "output_type": "stream",
     "text": [
      "PassengerId      0\n",
      "Survived         0\n",
      "Pclass           0\n",
      "Name             0\n",
      "Sex              0\n",
      "Age            177\n",
      "SibSp            0\n",
      "Parch            0\n",
      "Ticket           0\n",
      "Fare             0\n",
      "Cabin          687\n",
      "Embarked         2\n",
      "dtype: int64\n",
      "PassengerId    0\n",
      "Survived       0\n",
      "Pclass         0\n",
      "Name           0\n",
      "Sex            0\n",
      "Age            0\n",
      "SibSp          0\n",
      "Parch          0\n",
      "Ticket         0\n",
      "Fare           0\n",
      "Cabin          0\n",
      "Embarked       0\n",
      "dtype: int64\n",
      "PassengerId      0\n",
      "Pclass           0\n",
      "Name             0\n",
      "Sex              0\n",
      "Age             86\n",
      "SibSp            0\n",
      "Parch            0\n",
      "Ticket           0\n",
      "Fare             1\n",
      "Cabin          327\n",
      "Embarked         0\n",
      "dtype: int64\n",
      "PassengerId    0\n",
      "Pclass         0\n",
      "Name           0\n",
      "Sex            0\n",
      "Age            0\n",
      "SibSp          0\n",
      "Parch          0\n",
      "Ticket         0\n",
      "Fare           0\n",
      "Cabin          0\n",
      "Embarked       0\n",
      "dtype: int64\n"
     ]
    }
   ],
   "source": [
    "#Handle missing values\n",
    "print(train.isnull().sum())\n",
    "train['Age'] = train['Age'].fillna(train['Age'].mean())\n",
    "train['Embarked'] = train['Embarked'].fillna(train['Embarked'].mode()[0])\n",
    "train['Cabin'] = train['Cabin'].fillna(train['Cabin'].mode()[0])\n",
    "print(train.isnull().sum())\n",
    "\n",
    "print(test.isnull().sum())\n",
    "test['Age'] = test['Age'].fillna(test['Age'].mean())\n",
    "test['Fare'] = test['Fare'].fillna(test['Fare'].mean())\n",
    "test['Cabin'] = test['Cabin'].fillna(test['Cabin'].mode()[0])\n",
    "print(test.isnull().sum())"
   ]
  },
  {
   "cell_type": "code",
   "execution_count": 210,
   "id": "22f47b53",
   "metadata": {},
   "outputs": [
    {
     "name": "stdout",
     "output_type": "stream",
     "text": [
      "PassengerId      int64\n",
      "Survived         int64\n",
      "Pclass           int64\n",
      "Name            object\n",
      "Sex             object\n",
      "Age            float64\n",
      "SibSp            int64\n",
      "Parch            int64\n",
      "Ticket          object\n",
      "Fare           float64\n",
      "Cabin           object\n",
      "Embarked        object\n",
      "dtype: object\n"
     ]
    }
   ],
   "source": [
    "#datatypes of the columns\n",
    "print(train.dtypes)"
   ]
  },
  {
   "cell_type": "code",
   "execution_count": 211,
   "id": "683f7d35",
   "metadata": {},
   "outputs": [
    {
     "name": "stdout",
     "output_type": "stream",
     "text": [
      "Name\n",
      " count                         891\n",
      "unique                        891\n",
      "top       Braund, Mr. Owen Harris\n",
      "freq                            1\n",
      "Name: Name, dtype: object\n",
      "\n",
      "Sex\n",
      " count      891\n",
      "unique       2\n",
      "top       male\n",
      "freq       577\n",
      "Name: Sex, dtype: object\n",
      "\n",
      "Ticket\n",
      " count        891\n",
      "unique       681\n",
      "top       347082\n",
      "freq           7\n",
      "Name: Ticket, dtype: object\n",
      "\n",
      "Cabin\n",
      " count         891\n",
      "unique        147\n",
      "top       B96 B98\n",
      "freq          691\n",
      "Name: Cabin, dtype: object\n",
      "\n",
      "Embarked\n",
      " count     891\n",
      "unique      3\n",
      "top         S\n",
      "freq      646\n",
      "Name: Embarked, dtype: object\n",
      "\n"
     ]
    }
   ],
   "source": [
    "#describe the dataset\n",
    "print(\"Name\\n\", train['Name'].describe(), end='\\n\\n')\n",
    "print('Sex\\n', train['Sex'].describe(), end='\\n\\n')\n",
    "print('Ticket\\n', train['Ticket'].describe(), end='\\n\\n')\n",
    "print('Cabin\\n', train['Cabin'].describe(), end='\\n\\n')\n",
    "print('Embarked\\n', train['Embarked'].describe(), end='\\n\\n')"
   ]
  },
  {
   "cell_type": "code",
   "execution_count": 212,
   "id": "ca9bd796",
   "metadata": {},
   "outputs": [
    {
     "name": "stdout",
     "output_type": "stream",
     "text": [
      "PassengerId      int64\n",
      "Survived         int64\n",
      "Pclass           int64\n",
      "Name            object\n",
      "Sex              int32\n",
      "Age            float64\n",
      "SibSp            int64\n",
      "Parch            int64\n",
      "Ticket           int32\n",
      "Fare           float64\n",
      "Cabin            int32\n",
      "Embarked         int32\n",
      "dtype: object\n"
     ]
    }
   ],
   "source": [
    "#turning categorical data into numerical data\n",
    "cols = ['Sex', 'Ticket', 'Cabin', 'Embarked']\n",
    "train[cols] = train[cols].apply(LabelEncoder().fit_transform)\n",
    "print(train.dtypes)\n",
    "\n",
    "test[cols] = test[cols].apply(LabelEncoder().fit_transform)"
   ]
  },
  {
   "cell_type": "code",
   "execution_count": 213,
   "id": "0694249b",
   "metadata": {},
   "outputs": [],
   "source": [
    "#dropping the columns\n",
    "train = train.drop(['Name'], axis=1)"
   ]
  },
  {
   "cell_type": "code",
   "execution_count": 214,
   "id": "454eb741",
   "metadata": {},
   "outputs": [
    {
     "name": "stdout",
     "output_type": "stream",
     "text": [
      "Pclass\n",
      " -0.3384810359610148\n",
      "\n",
      "Sex\n",
      " -0.5433513806577546\n",
      "\n",
      "Age\n",
      " -0.06980851528714307\n",
      "\n",
      "SibSp\n",
      " -0.03532249888573557\n",
      "\n",
      "Parch\n",
      " 0.08162940708348361\n",
      "\n",
      "Ticket\n",
      " -0.16454913400236718\n",
      "\n",
      "Fare\n",
      " 0.2573065223849622\n",
      "\n",
      "Cabin\n",
      " 0.17569045103556669\n",
      "\n",
      "Embarked\n",
      " -0.16767531386772114\n",
      "\n"
     ]
    }
   ],
   "source": [
    "#determining the correlation\n",
    "print(\"Pclass\\n\", train['Pclass'].corr(train['Survived']), end='\\n\\n')\n",
    "print(\"Sex\\n\", train['Sex'].corr(train['Survived']), end='\\n\\n')\n",
    "print(\"Age\\n\", train['Age'].corr(train['Survived']), end='\\n\\n')\n",
    "print(\"SibSp\\n\", train['SibSp'].corr(train['Survived']), end='\\n\\n')\n",
    "print(\"Parch\\n\", train['Parch'].corr(train['Survived']), end='\\n\\n')\n",
    "print(\"Ticket\\n\", train['Ticket'].corr(train['Survived']), end='\\n\\n')\n",
    "print(\"Fare\\n\", train['Fare'].corr(train['Survived']), end='\\n\\n')\n",
    "print(\"Cabin\\n\", train['Cabin'].corr(train['Survived']), end='\\n\\n')\n",
    "print(\"Embarked\\n\", train['Embarked'].corr(train['Survived']), end='\\n\\n')"
   ]
  },
  {
   "cell_type": "code",
   "execution_count": 215,
   "id": "4b675033",
   "metadata": {},
   "outputs": [],
   "source": [
    "# #splitting the dataset\n",
    "# y = train['Survived']\n",
    "# cols = list(train.columns)\n",
    "# cols.remove('Survived')\n",
    "# cols.remove('PassengerId')\n",
    "# print(cols)\n",
    "# accuracy_scores = []\n",
    "# #applying the model\n",
    "# model = RandomForestClassifier(n_estimators=100, max_depth=5, random_state=1)\n",
    "# for i in range(1<<len(cols)):\n",
    "#     cols_to_drop = []\n",
    "#     for j in range(len(cols)):\n",
    "#         if i & (1<<j):\n",
    "#             cols_to_drop.append(cols[j])\n",
    "#     X = train.drop(['Survived'], axis=1).drop(cols_to_drop, axis=1)\n",
    "#     X_train, X_test, y_train, y_test = train_test_split(X, y, test_size=0.2, random_state=42)\n",
    "#     model.fit(X_train, y_train)\n",
    "#     y_pred = model.predict(X_test)\n",
    "#     accuracy_scores.append((accuracy_score(y_test, y_pred), cols_to_drop))\n",
    "# accuracy_scores.sort(reverse=True)\n",
    "# print(accuracy_scores[0])"
   ]
  },
  {
   "cell_type": "code",
   "execution_count": 216,
   "id": "e9905e54",
   "metadata": {},
   "outputs": [],
   "source": [
    "#applying the model\n",
    "model = RandomForestClassifier(n_estimators=100, max_depth=5, random_state=1)\n",
    "cols_to_drop = ['Fare']\n",
    "X_train = train.drop(['Survived']+cols_to_drop, axis=1)\n",
    "y_train = train['Survived']\n",
    "model.fit(X_train, y_train)\n",
    "X_pred = test.drop(['Name']+cols_to_drop, axis=1)\n",
    "y_pred = model.predict(X_pred)"
   ]
  },
  {
   "cell_type": "code",
   "execution_count": 217,
   "id": "082f304a",
   "metadata": {},
   "outputs": [],
   "source": [
    "#accuracy\n",
    "# print('Accuracy Score:', accuracy_score(y_test, y_pred))"
   ]
  },
  {
   "cell_type": "code",
   "execution_count": 218,
   "id": "ca5b7b51",
   "metadata": {},
   "outputs": [],
   "source": [
    "#printing the output\n",
    "output = pd.DataFrame({'PassengerId': test.PassengerId, 'Survived': y_pred})\n",
    "output.to_csv('output.csv', index=False)"
   ]
  }
 ],
 "metadata": {
  "kernelspec": {
   "display_name": "Python 3 (ipykernel)",
   "language": "python",
   "name": "python3"
  },
  "language_info": {
   "codemirror_mode": {
    "name": "ipython",
    "version": 3
   },
   "file_extension": ".py",
   "mimetype": "text/x-python",
   "name": "python",
   "nbconvert_exporter": "python",
   "pygments_lexer": "ipython3",
   "version": "3.10.2"
  }
 },
 "nbformat": 4,
 "nbformat_minor": 5
}
